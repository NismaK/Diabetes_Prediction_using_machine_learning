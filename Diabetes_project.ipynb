{
 "cells": [
  {
   "cell_type": "code",
   "execution_count": 8,
   "id": "cd8c7922-265f-47e0-85a3-ae3f6bd1de72",
   "metadata": {},
   "outputs": [],
   "source": [
    "import numpy as np \n",
    "import pickle\n",
    "import pandas as pd\n",
    "import streamlit as st\n",
    "import pipreqs\n",
    "\n",
    "#loading save model\n",
    "loaded_model = pickle.load(open('trained_model.pkl', 'rb'))\n",
    "\n",
    "def diabetesPrediction(input):\n",
    "    # changing the input_data to numpy array\n",
    "    input_data_as_numpy_array = np.asarray(input)\n",
    "\n",
    "    # reshape the array as we are predicting for one instance\n",
    "    input_data_reshaped = input_data_as_numpy_array.reshape(1,-1)\n",
    "\n",
    "    prediction = loaded_model.predict(input_data_reshaped)\n",
    "    print(prediction)\n",
    "\n",
    "    if (prediction[0] == 0):\n",
    "        return 'The person is not diabetic'\n",
    "    else:\n",
    "        return 'The person is diabetic'\n",
    "    \n",
    "    \n",
    "def main():\n",
    "    #title\n",
    "    st.title('Diabetes Prediction Web App')\n",
    "    \n",
    "    #getting input from users\n",
    "    #Pregnancies,Glucose,BloodPressure,SkinThickness,Insulin,BMI,DiabetesPedigreeFunction,Age\n",
    "    Pregnancies = st.text_input('Number Of Pregnancies')\n",
    "    Glucose = st.text_input('Glucose Level')\n",
    "    BloodPressure = st.text_input('Blood Pressure value')\n",
    "    SkinThickness = st.text_input('Skin Thickness value')\n",
    "    Insulin = st.text_input('Insulin Level')\n",
    "    BMI = st.text_input('BMI Value')\n",
    "    DiabetesPedigreeFunction = st.text_input('Diabetes Pedigree Function value')\n",
    "    Age = st.text_input('Age of person')\n",
    "    \n",
    "    #code for prediction\n",
    "    diagnosis = ''\n",
    "    \n",
    "    #creating a button for prediction\n",
    "    if st.button('Diabetes Test Result'):\n",
    "        diagnosis = diabetesPrediction([Pregnancies, Glucose, BloodPressure, SkinThickness, Insulin, BMI, DiabetesPedigreeFunction, Age ])\n",
    "        \n",
    "    st.success(diagnosis)\n",
    "    \n",
    "if __name__ == '__main__':\n",
    "    main()"
   ]
  },
  {
   "cell_type": "code",
   "execution_count": null,
   "id": "0a44a1e4-8fef-45d6-a9a7-bd6b769a0b25",
   "metadata": {},
   "outputs": [],
   "source": []
  },
  {
   "cell_type": "code",
   "execution_count": null,
   "id": "5e7e5b75-e49d-4127-8094-9897e6a26823",
   "metadata": {},
   "outputs": [],
   "source": []
  }
 ],
 "metadata": {
  "kernelspec": {
   "display_name": "Python 3 (ipykernel)",
   "language": "python",
   "name": "python3"
  },
  "language_info": {
   "codemirror_mode": {
    "name": "ipython",
    "version": 3
   },
   "file_extension": ".py",
   "mimetype": "text/x-python",
   "name": "python",
   "nbconvert_exporter": "python",
   "pygments_lexer": "ipython3",
   "version": "3.12.2"
  }
 },
 "nbformat": 4,
 "nbformat_minor": 5
}
